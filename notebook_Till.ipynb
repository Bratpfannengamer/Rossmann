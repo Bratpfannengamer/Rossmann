{
 "cells": [
  {
   "cell_type": "code",
   "execution_count": 4,
   "metadata": {},
   "outputs": [],
   "source": [
    "import pandas as pd\n",
    "import numpy as np\n",
    "import matplotlib.pyplot as plt\n"
   ]
  },
  {
   "cell_type": "code",
   "execution_count": 5,
   "metadata": {},
   "outputs": [
    {
     "name": "stderr",
     "output_type": "stream",
     "text": [
      "/tmp/ipykernel_11099/1131126083.py:1: DtypeWarning: Columns (7) have mixed types. Specify dtype option on import or set low_memory=False.\n",
      "  df_train=pd.read_csv('data/train.csv')\n"
     ]
    }
   ],
   "source": [
    "df_train=pd.read_csv('data/train.csv')\n",
    "df_store=pd.read_csv('data/store.csv')"
   ]
  },
  {
   "attachments": {},
   "cell_type": "markdown",
   "metadata": {},
   "source": [
    "## Datacleaning"
   ]
  },
  {
   "attachments": {},
   "cell_type": "markdown",
   "metadata": {},
   "source": [
    "# train.csv"
   ]
  },
  {
   "cell_type": "code",
   "execution_count": 6,
   "metadata": {},
   "outputs": [
    {
     "data": {
      "text/html": [
       "<div>\n",
       "<style scoped>\n",
       "    .dataframe tbody tr th:only-of-type {\n",
       "        vertical-align: middle;\n",
       "    }\n",
       "\n",
       "    .dataframe tbody tr th {\n",
       "        vertical-align: top;\n",
       "    }\n",
       "\n",
       "    .dataframe thead th {\n",
       "        text-align: right;\n",
       "    }\n",
       "</style>\n",
       "<table border=\"1\" class=\"dataframe\">\n",
       "  <thead>\n",
       "    <tr style=\"text-align: right;\">\n",
       "      <th></th>\n",
       "      <th>Store</th>\n",
       "      <th>DayOfWeek</th>\n",
       "      <th>Date</th>\n",
       "      <th>Sales</th>\n",
       "      <th>Customers</th>\n",
       "      <th>Open</th>\n",
       "      <th>Promo</th>\n",
       "      <th>StateHoliday</th>\n",
       "      <th>SchoolHoliday</th>\n",
       "    </tr>\n",
       "  </thead>\n",
       "  <tbody>\n",
       "    <tr>\n",
       "      <th>0</th>\n",
       "      <td>1</td>\n",
       "      <td>5</td>\n",
       "      <td>2015-07-31</td>\n",
       "      <td>5263</td>\n",
       "      <td>555</td>\n",
       "      <td>1</td>\n",
       "      <td>1</td>\n",
       "      <td>0</td>\n",
       "      <td>1</td>\n",
       "    </tr>\n",
       "    <tr>\n",
       "      <th>1</th>\n",
       "      <td>2</td>\n",
       "      <td>5</td>\n",
       "      <td>2015-07-31</td>\n",
       "      <td>6064</td>\n",
       "      <td>625</td>\n",
       "      <td>1</td>\n",
       "      <td>1</td>\n",
       "      <td>0</td>\n",
       "      <td>1</td>\n",
       "    </tr>\n",
       "    <tr>\n",
       "      <th>2</th>\n",
       "      <td>3</td>\n",
       "      <td>5</td>\n",
       "      <td>2015-07-31</td>\n",
       "      <td>8314</td>\n",
       "      <td>821</td>\n",
       "      <td>1</td>\n",
       "      <td>1</td>\n",
       "      <td>0</td>\n",
       "      <td>1</td>\n",
       "    </tr>\n",
       "    <tr>\n",
       "      <th>3</th>\n",
       "      <td>4</td>\n",
       "      <td>5</td>\n",
       "      <td>2015-07-31</td>\n",
       "      <td>13995</td>\n",
       "      <td>1498</td>\n",
       "      <td>1</td>\n",
       "      <td>1</td>\n",
       "      <td>0</td>\n",
       "      <td>1</td>\n",
       "    </tr>\n",
       "    <tr>\n",
       "      <th>4</th>\n",
       "      <td>5</td>\n",
       "      <td>5</td>\n",
       "      <td>2015-07-31</td>\n",
       "      <td>4822</td>\n",
       "      <td>559</td>\n",
       "      <td>1</td>\n",
       "      <td>1</td>\n",
       "      <td>0</td>\n",
       "      <td>1</td>\n",
       "    </tr>\n",
       "  </tbody>\n",
       "</table>\n",
       "</div>"
      ],
      "text/plain": [
       "   Store  DayOfWeek        Date  Sales  Customers  Open  Promo StateHoliday  \\\n",
       "0      1          5  2015-07-31   5263        555     1      1            0   \n",
       "1      2          5  2015-07-31   6064        625     1      1            0   \n",
       "2      3          5  2015-07-31   8314        821     1      1            0   \n",
       "3      4          5  2015-07-31  13995       1498     1      1            0   \n",
       "4      5          5  2015-07-31   4822        559     1      1            0   \n",
       "\n",
       "   SchoolHoliday  \n",
       "0              1  \n",
       "1              1  \n",
       "2              1  \n",
       "3              1  \n",
       "4              1  "
      ]
     },
     "execution_count": 6,
     "metadata": {},
     "output_type": "execute_result"
    }
   ],
   "source": [
    "df_train.head()"
   ]
  },
  {
   "cell_type": "code",
   "execution_count": 7,
   "metadata": {},
   "outputs": [],
   "source": [
    "df_train.columns=['store',\n",
    "    'day_of_week',\n",
    "    'date',\n",
    "    'sales',\n",
    "    'customers',\n",
    "    'open',\n",
    "    'promo',\n",
    "    'state_holiday',\n",
    "    'school_holiday']"
   ]
  },
  {
   "cell_type": "code",
   "execution_count": 8,
   "metadata": {},
   "outputs": [
    {
     "data": {
      "text/plain": [
       "array(['0', 'a', 'b', 'c', 0], dtype=object)"
      ]
     },
     "execution_count": 8,
     "metadata": {},
     "output_type": "execute_result"
    }
   ],
   "source": [
    "df_train['state_holiday'].unique()"
   ]
  },
  {
   "attachments": {},
   "cell_type": "markdown",
   "metadata": {},
   "source": [
    "Zu Klassifizieren mit '0':0;'a':1;'b':2;'c':3 "
   ]
  },
  {
   "cell_type": "code",
   "execution_count": 9,
   "metadata": {},
   "outputs": [
    {
     "data": {
      "text/plain": [
       "array([0, 1, 2, 3])"
      ]
     },
     "execution_count": 9,
     "metadata": {},
     "output_type": "execute_result"
    }
   ],
   "source": [
    "df_train['state_holiday']=df_train['state_holiday'].replace('0',0)\n",
    "df_train['state_holiday']=df_train['state_holiday'].replace('a',1)\n",
    "df_train['state_holiday']=df_train['state_holiday'].replace('b',2)\n",
    "df_train['state_holiday']=df_train['state_holiday'].replace('c',3)\n",
    "\n",
    "df_train['state_holiday']=df_train['state_holiday'].astype(int)\n",
    "\n",
    "df_train['state_holiday'].unique()"
   ]
  },
  {
   "attachments": {},
   "cell_type": "markdown",
   "metadata": {},
   "source": [
    "'Date' als Datetime formatieren und Tag Monat und Jahr seperat auslesen."
   ]
  },
  {
   "cell_type": "code",
   "execution_count": 10,
   "metadata": {},
   "outputs": [
    {
     "name": "stderr",
     "output_type": "stream",
     "text": [
      "/tmp/ipykernel_11099/2819681802.py:9: FutureWarning: Series.dt.weekofyear and Series.dt.week have been deprecated. Please use Series.dt.isocalendar().week instead.\n",
      "  df_train['week_of_year']=df_train['date'].dt.weekofyear\n"
     ]
    }
   ],
   "source": [
    "df_train['date']=pd.to_datetime(df_train['date'])\n",
    "\n",
    "df_train['year']=df_train['date'].dt.year\n",
    "\n",
    "df_train['month']=df_train['date'].dt.month\n",
    "\n",
    "df_train['day']=df_train['date'].dt.day\n",
    "\n",
    "df_train['week_of_year']=df_train['date'].dt.weekofyear"
   ]
  },
  {
   "attachments": {},
   "cell_type": "markdown",
   "metadata": {},
   "source": [
    "Zusatzlich Spalten für Monats- / Jahres- / Quartalsanfang / -ende anlegen."
   ]
  },
  {
   "cell_type": "code",
   "execution_count": 11,
   "metadata": {},
   "outputs": [],
   "source": [
    "df_train['is_month_end']=df_train['date'].dt.is_month_end\n",
    "\n",
    "df_train['is_month_start']=df_train['date'].dt.is_month_start\n",
    "\n",
    "df_train['is_quarter_end']=df_train['date'].dt.is_quarter_end\n",
    "\n",
    "df_train['is_quarter_start']=df_train['date'].dt.is_quarter_start\n",
    "\n",
    "df_train['is_year_end']=df_train['date'].dt.is_year_end\n",
    "\n",
    "df_train['is_year_start']=df_train['date'].dt.is_year_start"
   ]
  },
  {
   "attachments": {},
   "cell_type": "markdown",
   "metadata": {},
   "source": [
    "# store.csv"
   ]
  },
  {
   "cell_type": "markdown",
   "metadata": {},
   "source": []
  },
  {
   "cell_type": "code",
   "execution_count": 12,
   "metadata": {},
   "outputs": [
    {
     "name": "stdout",
     "output_type": "stream",
     "text": [
      "<class 'pandas.core.frame.DataFrame'>\n",
      "RangeIndex: 1115 entries, 0 to 1114\n",
      "Data columns (total 10 columns):\n",
      " #   Column                     Non-Null Count  Dtype  \n",
      "---  ------                     --------------  -----  \n",
      " 0   Store                      1115 non-null   int64  \n",
      " 1   StoreType                  1115 non-null   object \n",
      " 2   Assortment                 1115 non-null   object \n",
      " 3   CompetitionDistance        1112 non-null   float64\n",
      " 4   CompetitionOpenSinceMonth  761 non-null    float64\n",
      " 5   CompetitionOpenSinceYear   761 non-null    float64\n",
      " 6   Promo2                     1115 non-null   int64  \n",
      " 7   Promo2SinceWeek            571 non-null    float64\n",
      " 8   Promo2SinceYear            571 non-null    float64\n",
      " 9   PromoInterval              571 non-null    object \n",
      "dtypes: float64(5), int64(2), object(3)\n",
      "memory usage: 87.2+ KB\n"
     ]
    }
   ],
   "source": [
    "df_store.info()"
   ]
  },
  {
   "cell_type": "code",
   "execution_count": 13,
   "metadata": {},
   "outputs": [
    {
     "data": {
      "text/plain": [
       "array([1.070e+03, 3.100e+02, 3.270e+03, 3.240e+03, 1.040e+03, 2.300e+03,\n",
       "       2.170e+03, 2.910e+03, 1.800e+02, 1.180e+03, 2.900e+02, 4.880e+03,\n",
       "       2.050e+03, 2.256e+04, 7.660e+03, 2.500e+02, 1.130e+03, 4.840e+03,\n",
       "       3.300e+02, 3.320e+03, 7.910e+03, 2.710e+03, 2.410e+03, 2.400e+02,\n",
       "       1.669e+04, 1.462e+04, 8.980e+03, 1.793e+04, 2.440e+03, 6.190e+03,\n",
       "       7.890e+03, 4.510e+03, 2.000e+03, 2.460e+03, 9.000e+02, 5.190e+03,\n",
       "       1.540e+03, 1.657e+04, 2.800e+02, 8.540e+03, 1.780e+03, 1.642e+04,\n",
       "       3.050e+03, 1.184e+04, 1.254e+04, 2.640e+03, 1.100e+02, 1.309e+04,\n",
       "       4.130e+03, 3.770e+03, 1.710e+03, 4.800e+02, 1.390e+03, 9.670e+03,\n",
       "       3.560e+03, 1.936e+04, 8.500e+02, 5.200e+02, 1.697e+04, 2.200e+02,\n",
       "       2.026e+04, 3.800e+02, 6.870e+03, 1.500e+02, 1.900e+02, 3.150e+03,\n",
       "       6.400e+02, 7.930e+03, 4.500e+02, 2.370e+03, 1.080e+04, 1.890e+03,\n",
       "       4.370e+03, 3.200e+02, 6.100e+02, 7.800e+02, 1.310e+03, 3.520e+03,\n",
       "       3.400e+02, 2.233e+04, 2.100e+02, 4.580e+03, 4.200e+02, 8.480e+03,\n",
       "       3.640e+03, 7.840e+03, 2.320e+03, 2.260e+03, 1.290e+03, 8.000e+02,\n",
       "             nan, 8.740e+03, 2.290e+03, 1.416e+04, 1.314e+04, 3.700e+02,\n",
       "       6.700e+02, 9.000e+01, 1.590e+03, 2.280e+03, 8.080e+03, 1.577e+04,\n",
       "       1.200e+02, 8.090e+03, 1.649e+04, 8.880e+03, 6.360e+03, 1.362e+04,\n",
       "       1.112e+04, 6.630e+03, 3.500e+02, 1.300e+02, 2.120e+03, 1.085e+04,\n",
       "       2.313e+04, 1.420e+03, 1.560e+03, 8.400e+02, 8.460e+03, 4.460e+03,\n",
       "       6.210e+03, 2.880e+03, 1.250e+03, 1.460e+03, 4.520e+03, 9.100e+02,\n",
       "       4.300e+02, 1.110e+03, 2.530e+03, 5.000e+02, 7.586e+04, 2.645e+04,\n",
       "       1.400e+02, 3.390e+03, 4.160e+03, 5.000e+01, 5.300e+03, 1.481e+04,\n",
       "       7.470e+03, 4.680e+03, 1.150e+03, 5.470e+03, 1.610e+03, 9.900e+02,\n",
       "       8.200e+02, 1.280e+03, 8.260e+03, 5.900e+02, 1.126e+04, 2.000e+01,\n",
       "       2.249e+04, 6.900e+03, 2.062e+04, 1.816e+04, 4.030e+03, 5.950e+03,\n",
       "       8.100e+02, 2.330e+03, 1.200e+03, 1.430e+04, 1.210e+03, 6.540e+03,\n",
       "       3.620e+03, 4.270e+03, 4.400e+03, 2.270e+03, 1.360e+03, 3.600e+02,\n",
       "       3.340e+03, 8.940e+03, 9.910e+03, 5.440e+03, 2.180e+03, 2.870e+03,\n",
       "       1.861e+04, 9.790e+03, 8.040e+03, 2.000e+02, 2.039e+04, 2.700e+03,\n",
       "       2.060e+03, 1.517e+04, 3.250e+03, 1.700e+02, 6.200e+02, 6.800e+02,\n",
       "       2.770e+03, 1.000e+02, 3.030e+03, 3.780e+03, 8.300e+02, 8.190e+03,\n",
       "       5.900e+03, 1.399e+04, 1.527e+04, 3.528e+04, 1.650e+03, 1.190e+04,\n",
       "       4.380e+03, 3.450e+03, 2.649e+04, 9.820e+03, 1.308e+04, 1.850e+03,\n",
       "       1.549e+04, 5.100e+02, 1.760e+03, 2.100e+03, 2.600e+02, 1.862e+04,\n",
       "       4.600e+02, 4.900e+02, 1.757e+04, 6.320e+03, 5.070e+03, 6.890e+03,\n",
       "       5.000e+03, 1.404e+04, 4.770e+03, 3.440e+03, 7.400e+02, 9.680e+03,\n",
       "       1.062e+04, 3.210e+03, 2.919e+04, 4.570e+03, 7.550e+03, 1.970e+04,\n",
       "       4.450e+03, 4.150e+03, 1.854e+04, 2.590e+03, 1.680e+03, 1.248e+04,\n",
       "       2.620e+03, 1.090e+03, 7.000e+01, 1.570e+04, 5.460e+03, 2.810e+03,\n",
       "       1.340e+03, 6.860e+03, 1.802e+04, 1.430e+03, 7.100e+02, 8.990e+03,\n",
       "       9.430e+03, 2.700e+02, 1.190e+03, 1.496e+04, 9.630e+03, 4.180e+03,\n",
       "       3.890e+03, 2.193e+04, 4.400e+02, 2.093e+04, 1.010e+03, 1.964e+04,\n",
       "       9.700e+02, 6.480e+03, 5.500e+02, 1.520e+03, 2.715e+04, 9.560e+03,\n",
       "       3.750e+03, 5.080e+03, 1.319e+04, 5.350e+03, 3.430e+03, 8.110e+03,\n",
       "       6.250e+03, 3.350e+03, 5.010e+03, 1.805e+04, 1.668e+04, 1.154e+04,\n",
       "       9.990e+03, 5.400e+02, 9.260e+03, 8.700e+02])"
      ]
     },
     "execution_count": 13,
     "metadata": {},
     "output_type": "execute_result"
    }
   ],
   "source": [
    "df_store[df_store['CompetitionOpenSinceMonth'].isnull()]['CompetitionDistance'].unique()"
   ]
  },
  {
   "cell_type": "code",
   "execution_count": 14,
   "metadata": {},
   "outputs": [
    {
     "name": "stdout",
     "output_type": "stream",
     "text": [
      "<class 'pandas.core.frame.DataFrame'>\n",
      "Int64Index: 544 entries, 0 to 1113\n",
      "Data columns (total 10 columns):\n",
      " #   Column                     Non-Null Count  Dtype  \n",
      "---  ------                     --------------  -----  \n",
      " 0   Store                      544 non-null    int64  \n",
      " 1   StoreType                  544 non-null    object \n",
      " 2   Assortment                 544 non-null    object \n",
      " 3   CompetitionDistance        542 non-null    float64\n",
      " 4   CompetitionOpenSinceMonth  396 non-null    float64\n",
      " 5   CompetitionOpenSinceYear   396 non-null    float64\n",
      " 6   Promo2                     544 non-null    int64  \n",
      " 7   Promo2SinceWeek            0 non-null      float64\n",
      " 8   Promo2SinceYear            0 non-null      float64\n",
      " 9   PromoInterval              0 non-null      object \n",
      "dtypes: float64(5), int64(2), object(3)\n",
      "memory usage: 46.8+ KB\n"
     ]
    }
   ],
   "source": [
    "df_store[df_store['Promo2']==0].info()"
   ]
  },
  {
   "attachments": {},
   "cell_type": "markdown",
   "metadata": {},
   "source": [
    "Die Werte für Promo2SinceWeek, Promo2SinceYear und PromoInterval sind genau dann Null, wenn Promo2==0 gilt.\n",
    "Die Spalten mit Buchstaben auf numerische WErte umsetzen."
   ]
  },
  {
   "cell_type": "code",
   "execution_count": 15,
   "metadata": {},
   "outputs": [],
   "source": [
    "#set assortment to numeric values\n",
    "df_store['Assortment'] = df_store['Assortment'].map({'a': 1, 'b': 2, 'c': 3})"
   ]
  },
  {
   "cell_type": "code",
   "execution_count": 16,
   "metadata": {},
   "outputs": [
    {
     "name": "stdout",
     "output_type": "stream",
     "text": [
      "<class 'pandas.core.frame.DataFrame'>\n",
      "RangeIndex: 1115 entries, 0 to 1114\n",
      "Data columns (total 10 columns):\n",
      " #   Column                     Non-Null Count  Dtype  \n",
      "---  ------                     --------------  -----  \n",
      " 0   Store                      1115 non-null   int64  \n",
      " 1   StoreType                  1115 non-null   int64  \n",
      " 2   Assortment                 1115 non-null   int64  \n",
      " 3   CompetitionDistance        1112 non-null   float64\n",
      " 4   CompetitionOpenSinceMonth  761 non-null    float64\n",
      " 5   CompetitionOpenSinceYear   761 non-null    float64\n",
      " 6   Promo2                     1115 non-null   int64  \n",
      " 7   Promo2SinceWeek            571 non-null    float64\n",
      " 8   Promo2SinceYear            571 non-null    float64\n",
      " 9   PromoInterval              571 non-null    object \n",
      "dtypes: float64(5), int64(4), object(1)\n",
      "memory usage: 87.2+ KB\n"
     ]
    }
   ],
   "source": [
    "#set storetype to numeric values\n",
    "df_store['StoreType'] = df_store['StoreType'].map({'a': 1, 'b': 2, 'c': 3, 'd': 4})\n",
    "\n",
    "df_store.info()\n"
   ]
  },
  {
   "cell_type": "code",
   "execution_count": 17,
   "metadata": {},
   "outputs": [
    {
     "name": "stdout",
     "output_type": "stream",
     "text": [
      "<class 'pandas.core.frame.DataFrame'>\n",
      "RangeIndex: 1115 entries, 0 to 1114\n",
      "Data columns (total 10 columns):\n",
      " #   Column                        Non-Null Count  Dtype  \n",
      "---  ------                        --------------  -----  \n",
      " 0   store                         1115 non-null   int64  \n",
      " 1   storetype                     1115 non-null   int64  \n",
      " 2   assortment                    1115 non-null   int64  \n",
      " 3   competition_distance          1112 non-null   float64\n",
      " 4   competition_open_since_month  761 non-null    float64\n",
      " 5   competition_open_since_year   761 non-null    float64\n",
      " 6   promo2                        1115 non-null   int64  \n",
      " 7   promo2_since_week             571 non-null    float64\n",
      " 8   promo2_since_year             571 non-null    float64\n",
      " 9   promo_interval                571 non-null    object \n",
      "dtypes: float64(5), int64(4), object(1)\n",
      "memory usage: 87.2+ KB\n"
     ]
    }
   ],
   "source": [
    "#convert to snake case\n",
    "df_store.columns = ['store',\n",
    " 'storetype',\n",
    " 'assortment',\n",
    " 'competition_distance',\n",
    " 'competition_open_since_month',\n",
    " 'competition_open_since_year',\n",
    " 'promo2',\n",
    " 'promo2_since_week',\n",
    " 'promo2_since_year',\n",
    " 'promo_interval']\n",
    "\n",
    "df_store.info()"
   ]
  },
  {
   "cell_type": "code",
   "execution_count": 18,
   "metadata": {},
   "outputs": [],
   "source": [
    "#set promo_interval to numeric values\n",
    "df_store['promo_interval'] = df_store['promo_interval'].map({'Jan,Apr,Jul,Oct': 1, 'Feb,May,Aug,Nov': 2, 'Mar,Jun,Sept,Dec': 3})\n",
    "\n"
   ]
  },
  {
   "cell_type": "code",
   "execution_count": 19,
   "metadata": {},
   "outputs": [],
   "source": [
    "#fill missing values for promo2_since_week and promo2_since_year and promo_interval\n",
    "df_store['promo2_since_week'] = df_store['promo2_since_week'].fillna(-1)\n",
    "df_store['promo2_since_year'] = df_store['promo2_since_year'].fillna(-1)\n",
    "df_store['promo_interval'] = df_store['promo_interval'].fillna(-1)\n",
    "\n",
    "\n"
   ]
  },
  {
   "cell_type": "code",
   "execution_count": 20,
   "metadata": {},
   "outputs": [],
   "source": [
    "#fill missing values for competition_open_since_month and competition_open_since_year with mean\n",
    "df_store['competition_open_since_month'] = df_store['competition_open_since_month'].fillna(df_store['competition_open_since_month'].mean())\n",
    "df_store['competition_open_since_year'] = df_store['competition_open_since_year'].fillna(df_store['competition_open_since_year'].mean())\n",
    "#also fill missing values for competition_distance with mean\n",
    "df_store['competition_distance'] = df_store['competition_distance'].fillna(df_store['competition_distance'].mean())\n"
   ]
  },
  {
   "cell_type": "code",
   "execution_count": 21,
   "metadata": {},
   "outputs": [
    {
     "data": {
      "text/html": [
       "<div>\n",
       "<style scoped>\n",
       "    .dataframe tbody tr th:only-of-type {\n",
       "        vertical-align: middle;\n",
       "    }\n",
       "\n",
       "    .dataframe tbody tr th {\n",
       "        vertical-align: top;\n",
       "    }\n",
       "\n",
       "    .dataframe thead th {\n",
       "        text-align: right;\n",
       "    }\n",
       "</style>\n",
       "<table border=\"1\" class=\"dataframe\">\n",
       "  <thead>\n",
       "    <tr style=\"text-align: right;\">\n",
       "      <th></th>\n",
       "      <th>store</th>\n",
       "      <th>storetype</th>\n",
       "      <th>assortment</th>\n",
       "      <th>competition_distance</th>\n",
       "      <th>competition_open_since_month</th>\n",
       "      <th>competition_open_since_year</th>\n",
       "      <th>promo2</th>\n",
       "      <th>promo2_since_week</th>\n",
       "      <th>promo2_since_year</th>\n",
       "      <th>promo_interval</th>\n",
       "    </tr>\n",
       "  </thead>\n",
       "  <tbody>\n",
       "    <tr>\n",
       "      <th>0</th>\n",
       "      <td>1</td>\n",
       "      <td>3</td>\n",
       "      <td>1</td>\n",
       "      <td>1270.0</td>\n",
       "      <td>9.0</td>\n",
       "      <td>2008.0</td>\n",
       "      <td>0</td>\n",
       "      <td>-1.0</td>\n",
       "      <td>-1.0</td>\n",
       "      <td>-1.0</td>\n",
       "    </tr>\n",
       "    <tr>\n",
       "      <th>1</th>\n",
       "      <td>2</td>\n",
       "      <td>1</td>\n",
       "      <td>1</td>\n",
       "      <td>570.0</td>\n",
       "      <td>11.0</td>\n",
       "      <td>2007.0</td>\n",
       "      <td>1</td>\n",
       "      <td>13.0</td>\n",
       "      <td>2010.0</td>\n",
       "      <td>1.0</td>\n",
       "    </tr>\n",
       "    <tr>\n",
       "      <th>2</th>\n",
       "      <td>3</td>\n",
       "      <td>1</td>\n",
       "      <td>1</td>\n",
       "      <td>14130.0</td>\n",
       "      <td>12.0</td>\n",
       "      <td>2006.0</td>\n",
       "      <td>1</td>\n",
       "      <td>14.0</td>\n",
       "      <td>2011.0</td>\n",
       "      <td>1.0</td>\n",
       "    </tr>\n",
       "    <tr>\n",
       "      <th>3</th>\n",
       "      <td>4</td>\n",
       "      <td>3</td>\n",
       "      <td>3</td>\n",
       "      <td>620.0</td>\n",
       "      <td>9.0</td>\n",
       "      <td>2009.0</td>\n",
       "      <td>0</td>\n",
       "      <td>-1.0</td>\n",
       "      <td>-1.0</td>\n",
       "      <td>-1.0</td>\n",
       "    </tr>\n",
       "    <tr>\n",
       "      <th>4</th>\n",
       "      <td>5</td>\n",
       "      <td>1</td>\n",
       "      <td>1</td>\n",
       "      <td>29910.0</td>\n",
       "      <td>4.0</td>\n",
       "      <td>2015.0</td>\n",
       "      <td>0</td>\n",
       "      <td>-1.0</td>\n",
       "      <td>-1.0</td>\n",
       "      <td>-1.0</td>\n",
       "    </tr>\n",
       "  </tbody>\n",
       "</table>\n",
       "</div>"
      ],
      "text/plain": [
       "   store  storetype  assortment  competition_distance  \\\n",
       "0      1          3           1                1270.0   \n",
       "1      2          1           1                 570.0   \n",
       "2      3          1           1               14130.0   \n",
       "3      4          3           3                 620.0   \n",
       "4      5          1           1               29910.0   \n",
       "\n",
       "   competition_open_since_month  competition_open_since_year  promo2  \\\n",
       "0                           9.0                       2008.0       0   \n",
       "1                          11.0                       2007.0       1   \n",
       "2                          12.0                       2006.0       1   \n",
       "3                           9.0                       2009.0       0   \n",
       "4                           4.0                       2015.0       0   \n",
       "\n",
       "   promo2_since_week  promo2_since_year  promo_interval  \n",
       "0               -1.0               -1.0            -1.0  \n",
       "1               13.0             2010.0             1.0  \n",
       "2               14.0             2011.0             1.0  \n",
       "3               -1.0               -1.0            -1.0  \n",
       "4               -1.0               -1.0            -1.0  "
      ]
     },
     "execution_count": 21,
     "metadata": {},
     "output_type": "execute_result"
    }
   ],
   "source": [
    "df_store.head()"
   ]
  },
  {
   "cell_type": "markdown",
   "metadata": {},
   "source": [
    "# merge train and store data"
   ]
  },
  {
   "cell_type": "code",
   "execution_count": 22,
   "metadata": {},
   "outputs": [],
   "source": [
    "#merge train and store data\n",
    "df_train_store = pd.merge(df_train, df_store, how='left', on='store')"
   ]
  },
  {
   "cell_type": "code",
   "execution_count": 23,
   "metadata": {},
   "outputs": [
    {
     "data": {
      "text/html": [
       "<div>\n",
       "<style scoped>\n",
       "    .dataframe tbody tr th:only-of-type {\n",
       "        vertical-align: middle;\n",
       "    }\n",
       "\n",
       "    .dataframe tbody tr th {\n",
       "        vertical-align: top;\n",
       "    }\n",
       "\n",
       "    .dataframe thead th {\n",
       "        text-align: right;\n",
       "    }\n",
       "</style>\n",
       "<table border=\"1\" class=\"dataframe\">\n",
       "  <thead>\n",
       "    <tr style=\"text-align: right;\">\n",
       "      <th></th>\n",
       "      <th>store</th>\n",
       "      <th>day_of_week</th>\n",
       "      <th>date</th>\n",
       "      <th>sales</th>\n",
       "      <th>customers</th>\n",
       "      <th>open</th>\n",
       "      <th>promo</th>\n",
       "      <th>state_holiday</th>\n",
       "      <th>school_holiday</th>\n",
       "      <th>year</th>\n",
       "      <th>...</th>\n",
       "      <th>is_year_start</th>\n",
       "      <th>storetype</th>\n",
       "      <th>assortment</th>\n",
       "      <th>competition_distance</th>\n",
       "      <th>competition_open_since_month</th>\n",
       "      <th>competition_open_since_year</th>\n",
       "      <th>promo2</th>\n",
       "      <th>promo2_since_week</th>\n",
       "      <th>promo2_since_year</th>\n",
       "      <th>promo_interval</th>\n",
       "    </tr>\n",
       "  </thead>\n",
       "  <tbody>\n",
       "    <tr>\n",
       "      <th>0</th>\n",
       "      <td>1</td>\n",
       "      <td>5</td>\n",
       "      <td>2015-07-31</td>\n",
       "      <td>5263</td>\n",
       "      <td>555</td>\n",
       "      <td>1</td>\n",
       "      <td>1</td>\n",
       "      <td>0</td>\n",
       "      <td>1</td>\n",
       "      <td>2015</td>\n",
       "      <td>...</td>\n",
       "      <td>False</td>\n",
       "      <td>3</td>\n",
       "      <td>1</td>\n",
       "      <td>1270.0</td>\n",
       "      <td>9.0</td>\n",
       "      <td>2008.0</td>\n",
       "      <td>0</td>\n",
       "      <td>-1.0</td>\n",
       "      <td>-1.0</td>\n",
       "      <td>-1.0</td>\n",
       "    </tr>\n",
       "    <tr>\n",
       "      <th>1</th>\n",
       "      <td>2</td>\n",
       "      <td>5</td>\n",
       "      <td>2015-07-31</td>\n",
       "      <td>6064</td>\n",
       "      <td>625</td>\n",
       "      <td>1</td>\n",
       "      <td>1</td>\n",
       "      <td>0</td>\n",
       "      <td>1</td>\n",
       "      <td>2015</td>\n",
       "      <td>...</td>\n",
       "      <td>False</td>\n",
       "      <td>1</td>\n",
       "      <td>1</td>\n",
       "      <td>570.0</td>\n",
       "      <td>11.0</td>\n",
       "      <td>2007.0</td>\n",
       "      <td>1</td>\n",
       "      <td>13.0</td>\n",
       "      <td>2010.0</td>\n",
       "      <td>1.0</td>\n",
       "    </tr>\n",
       "    <tr>\n",
       "      <th>2</th>\n",
       "      <td>3</td>\n",
       "      <td>5</td>\n",
       "      <td>2015-07-31</td>\n",
       "      <td>8314</td>\n",
       "      <td>821</td>\n",
       "      <td>1</td>\n",
       "      <td>1</td>\n",
       "      <td>0</td>\n",
       "      <td>1</td>\n",
       "      <td>2015</td>\n",
       "      <td>...</td>\n",
       "      <td>False</td>\n",
       "      <td>1</td>\n",
       "      <td>1</td>\n",
       "      <td>14130.0</td>\n",
       "      <td>12.0</td>\n",
       "      <td>2006.0</td>\n",
       "      <td>1</td>\n",
       "      <td>14.0</td>\n",
       "      <td>2011.0</td>\n",
       "      <td>1.0</td>\n",
       "    </tr>\n",
       "    <tr>\n",
       "      <th>3</th>\n",
       "      <td>4</td>\n",
       "      <td>5</td>\n",
       "      <td>2015-07-31</td>\n",
       "      <td>13995</td>\n",
       "      <td>1498</td>\n",
       "      <td>1</td>\n",
       "      <td>1</td>\n",
       "      <td>0</td>\n",
       "      <td>1</td>\n",
       "      <td>2015</td>\n",
       "      <td>...</td>\n",
       "      <td>False</td>\n",
       "      <td>3</td>\n",
       "      <td>3</td>\n",
       "      <td>620.0</td>\n",
       "      <td>9.0</td>\n",
       "      <td>2009.0</td>\n",
       "      <td>0</td>\n",
       "      <td>-1.0</td>\n",
       "      <td>-1.0</td>\n",
       "      <td>-1.0</td>\n",
       "    </tr>\n",
       "    <tr>\n",
       "      <th>4</th>\n",
       "      <td>5</td>\n",
       "      <td>5</td>\n",
       "      <td>2015-07-31</td>\n",
       "      <td>4822</td>\n",
       "      <td>559</td>\n",
       "      <td>1</td>\n",
       "      <td>1</td>\n",
       "      <td>0</td>\n",
       "      <td>1</td>\n",
       "      <td>2015</td>\n",
       "      <td>...</td>\n",
       "      <td>False</td>\n",
       "      <td>1</td>\n",
       "      <td>1</td>\n",
       "      <td>29910.0</td>\n",
       "      <td>4.0</td>\n",
       "      <td>2015.0</td>\n",
       "      <td>0</td>\n",
       "      <td>-1.0</td>\n",
       "      <td>-1.0</td>\n",
       "      <td>-1.0</td>\n",
       "    </tr>\n",
       "  </tbody>\n",
       "</table>\n",
       "<p>5 rows × 28 columns</p>\n",
       "</div>"
      ],
      "text/plain": [
       "   store  day_of_week       date  sales  customers  open  promo  \\\n",
       "0      1            5 2015-07-31   5263        555     1      1   \n",
       "1      2            5 2015-07-31   6064        625     1      1   \n",
       "2      3            5 2015-07-31   8314        821     1      1   \n",
       "3      4            5 2015-07-31  13995       1498     1      1   \n",
       "4      5            5 2015-07-31   4822        559     1      1   \n",
       "\n",
       "   state_holiday  school_holiday  year  ...  is_year_start  storetype  \\\n",
       "0              0               1  2015  ...          False          3   \n",
       "1              0               1  2015  ...          False          1   \n",
       "2              0               1  2015  ...          False          1   \n",
       "3              0               1  2015  ...          False          3   \n",
       "4              0               1  2015  ...          False          1   \n",
       "\n",
       "   assortment  competition_distance  competition_open_since_month  \\\n",
       "0           1                1270.0                           9.0   \n",
       "1           1                 570.0                          11.0   \n",
       "2           1               14130.0                          12.0   \n",
       "3           3                 620.0                           9.0   \n",
       "4           1               29910.0                           4.0   \n",
       "\n",
       "   competition_open_since_year  promo2  promo2_since_week  promo2_since_year  \\\n",
       "0                       2008.0       0               -1.0               -1.0   \n",
       "1                       2007.0       1               13.0             2010.0   \n",
       "2                       2006.0       1               14.0             2011.0   \n",
       "3                       2009.0       0               -1.0               -1.0   \n",
       "4                       2015.0       0               -1.0               -1.0   \n",
       "\n",
       "   promo_interval  \n",
       "0            -1.0  \n",
       "1             1.0  \n",
       "2             1.0  \n",
       "3            -1.0  \n",
       "4            -1.0  \n",
       "\n",
       "[5 rows x 28 columns]"
      ]
     },
     "execution_count": 23,
     "metadata": {},
     "output_type": "execute_result"
    }
   ],
   "source": [
    "df_train_store.head()"
   ]
  },
  {
   "attachments": {},
   "cell_type": "markdown",
   "metadata": {},
   "source": [
    "## Explorative Datenanalyse"
   ]
  },
  {
   "cell_type": "code",
   "execution_count": 36,
   "metadata": {},
   "outputs": [
    {
     "data": {
      "text/plain": [
       "<AxesSubplot: xlabel='year,week_of_year'>"
      ]
     },
     "execution_count": 36,
     "metadata": {},
     "output_type": "execute_result"
    },
    {
     "data": {
      "image/png": "[encoded data removed]",
      "text/plain": [
       "<Figure size 640x480 with 1 Axes>"
      ]
     },
     "metadata": {},
     "output_type": "display_data"
    }
   ],
   "source": [
    "# plot sales by year and week of year rolling mean\n",
    "\n",
    "df_train_store.groupby(['year','week_of_year'])['sales'].mean().rolling(7).mean().plot()"
   ]
  },
  {
   "cell_type": "code",
   "execution_count": 31,
   "metadata": {},
   "outputs": [
    {
     "data": {
      "text/plain": [
       "<AxesSubplot: xlabel='year,month'>"
      ]
     },
     "execution_count": 31,
     "metadata": {},
     "output_type": "execute_result"
    },
    {
     "data": {
      "image/png": "[encoded data removed]",
      "text/plain": [
       "<Figure size 640x480 with 1 Axes>"
      ]
     },
     "metadata": {},
     "output_type": "display_data"
    }
   ],
   "source": [
    "# plot sales by year and month as bar chart\n",
    "colors = {2013: 'r', 2014: 'b', 2015: 'g'}\n",
    "df_train_store.groupby(['year','month'])['sales'].mean().plot(kind='bar', color=['b' if i<12 else 'g' for i in range(0,24)])"
   ]
  },
  {
   "cell_type": "code",
   "execution_count": null,
   "metadata": {},
   "outputs": [],
   "source": []
  }
 ],
 "metadata": {
  "kernelspec": {
   "display_name": "Python 3",
   "language": "python",
   "name": "python3"
  },
  "language_info": {
   "codemirror_mode": {
    "name": "ipython",
    "version": 3
   },
   "file_extension": ".py",
   "mimetype": "text/x-python",
   "name": "python",
   "nbconvert_exporter": "python",
   "pygments_lexer": "ipython3",
   "version": "3.11.1"
  },
  "orig_nbformat": 4,
  "vscode": {
   "interpreter": {
    "hash": "949777d72b0d2535278d3dc13498b2535136f6dfe0678499012e853ee9abcab1"
   }
  }
 },
 "nbformat": 4,
 "nbformat_minor": 2
}
